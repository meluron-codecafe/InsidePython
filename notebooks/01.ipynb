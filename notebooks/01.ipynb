{
 "cells": [
  {
   "cell_type": "code",
   "execution_count": 1,
   "id": "2b02eab5-be4e-4dcd-b3a7-d3838908fb3f",
   "metadata": {},
   "outputs": [],
   "source": [
    "#hide"
   ]
  },
  {
   "cell_type": "code",
   "execution_count": 3,
   "id": "2de6d2dd-c76c-4cb1-9ec3-8ac10b452f1d",
   "metadata": {
    "jupyter": {
     "source_hidden": true
    }
   },
   "outputs": [
    {
     "data": {
      "text/html": [
       "\n",
       "    <div style=\"\n",
       "        position: relative;\n",
       "        display: flex; \n",
       "        align-items: center; \n",
       "        justify-content: flex-start;\n",
       "        min-height: 80px;\n",
       "        width: 800px;\n",
       "        background: linear-gradient(135deg, #f5f7fa 0%, #c3cfe2 100%);\n",
       "        padding: 20px;\n",
       "        border-radius: 12px;\n",
       "        box-shadow: 0 4px 15px rgba(0, 0, 0, 0.1);\n",
       "        border: 1px solid #e1e8ed;\n",
       "        margin: 10px 0;\n",
       "        font-family: 'Segoe UI', Tahoma, Geneva, Verdana, sans-serif;\n",
       "    \">\n",
       "\n",
       "        <!-- GitHub Icon + Name in top-right -->\n",
       "        <a href=\"https://github.com/meluron\" target=\"_blank\" style=\"\n",
       "            position: absolute;\n",
       "            top: 16px;\n",
       "            right: 20px;\n",
       "            display: flex;\n",
       "            align-items: center;\n",
       "            text-decoration: none;\n",
       "            color: #333;\n",
       "            font-size: 14px;\n",
       "            font-weight: 500;\n",
       "            gap: 6px;\n",
       "        \">\n",
       "            <img src=\"https://cdn-icons-png.flaticon.com/512/25/25231.png\" \n",
       "                 alt=\"GitHub\" \n",
       "                 style=\"width: 18px; height: 18px; display: inline-block; vertical-align: middle;\">\n",
       "            <span style=\"transform: translateY(-1px); line-height: 1;\">\n",
       "                /meluron-codecafe\n",
       "            </span>\n",
       "        </a>\n",
       "\n",
       "        <!-- Logo + Label stacked vertically -->\n",
       "        <div style=\"\n",
       "            display: flex; \n",
       "            flex-direction: column; \n",
       "            align-items: center; \n",
       "            justify-content: center;\n",
       "            margin-right: 35px;\n",
       "        \">\n",
       "            <a href=\"https://github.com/meluron\" target=\"_blank\">\n",
       "                <img src=\"https://raw.githubusercontent.com/meluron/assets/refs/heads/main/logos/meluron-codecafe/orig.png\" \n",
       "                     alt=\"My Logo\" \n",
       "                     style=\"\n",
       "                        width: 70px; \n",
       "                        height: 70px;\n",
       "                        border-radius: 8px;\n",
       "                        box-shadow: 0 3px 10px rgba(253, 138, 9, 0.3);\n",
       "                     \">\n",
       "            </a>\n",
       "            <div style=\"\n",
       "                font-size: 13px; \n",
       "                color: #fd8a09; \n",
       "                font-weight: bold;\n",
       "                margin-top: 6px;\n",
       "                text-align: center;\n",
       "            \">\n",
       "            </div>\n",
       "        </div>\n",
       "\n",
       "        <!-- Topic Badge -->\n",
       "        <div style=\"\n",
       "            font-size: 14px; \n",
       "            background: linear-gradient(135deg, #667eea, #764ba2);\n",
       "            color: white; \n",
       "            padding: 8px 14px; \n",
       "            border-radius: 20px; \n",
       "            display: inline-flex;\n",
       "            align-items: center;\n",
       "            gap: 6px;\n",
       "            font-weight: 600;\n",
       "            box-shadow: 0 3px 12px rgba(102, 126, 234, 0.3);\n",
       "        \">\n",
       "            <span style=\"font-size: 16px;\">🎯</span>\n",
       "            Topic: An Intro to Data Types\n",
       "        </div>\n",
       "    </div>\n",
       "    "
      ],
      "text/plain": [
       "<IPython.core.display.HTML object>"
      ]
     },
     "metadata": {},
     "output_type": "display_data"
    }
   ],
   "source": [
    "#hide\n",
    "import utils\n",
    "utils.hero(\"An Intro to Data Types\")"
   ]
  },
  {
   "cell_type": "code",
   "execution_count": 4,
   "id": "297b9309-9972-4f91-adb2-1adbad4f3503",
   "metadata": {
    "jupyter": {
     "source_hidden": true
    }
   },
   "outputs": [
    {
     "data": {
      "text/html": [
       "\n",
       "        <div style=\"\n",
       "            margin: 25px 0 15px 0;\n",
       "            padding: 0;\n",
       "        \">\n",
       "            <h2 style=\"\n",
       "                font-size: 24px;\n",
       "                font-weight: 600;\n",
       "                color: #2c3e50;\n",
       "                margin: 0;\n",
       "                padding: 12px 0 8px 0;\n",
       "                display: inline-block;\n",
       "                font-family: 'Segoe UI', Tahoma, Geneva, Verdana, sans-serif;\n",
       "                background: linear-gradient(135deg, #667eea, #764ba2);\n",
       "                -webkit-background-clip: text;\n",
       "                -webkit-text-fill-color: transparent;\n",
       "                background-clip: text;\n",
       "            \">▶ Built-in Vs Custom Data Types</h2>\n",
       "        </div>\n",
       "    "
      ],
      "text/plain": [
       "<IPython.core.display.HTML object>"
      ]
     },
     "metadata": {},
     "output_type": "display_data"
    }
   ],
   "source": [
    "#hide\n",
    "utils.h1(\"Built-in Vs Custom Data Types\")"
   ]
  },
  {
   "cell_type": "markdown",
   "id": "8afb3808-b8f5-4f0c-a3d9-382d3591526f",
   "metadata": {},
   "source": [
    "In python, we can classify data types into two categories based on whether they are built-in python:\n",
    "- **Built in datatypes** (meaning they come pre-defined with python and are available without importing any external module)\n",
    "1. For integer: int\n",
    "2. For decimal: Floating point number (float)\n",
    "3. For word/alphabet: String (str)\n",
    "4. For true/false: Boolean (bool)\n",
    "5. Ordered collection of items: List (list)\n",
    "6. Key-value mappings: Dictionary (dict)\n",
    "- **Custom datatypes** (meaning they are either created by developers (user-defined classes) or provided by external libraries)\n",
    "1. numpy.ndarray: Comes from NumPy library\n",
    "2. torch.Tensor: Comes from PyTorch library\n",
    "3. pandas.DataFrame: Comes from Pandas library\n",
    "4. Any other custom class created by the developer"
   ]
  },
  {
   "cell_type": "code",
   "execution_count": 5,
   "id": "17fd7bd3-41f2-4595-9eed-ef1107527e3f",
   "metadata": {
    "jupyter": {
     "source_hidden": true
    }
   },
   "outputs": [
    {
     "data": {
      "text/html": [
       "\n",
       "        <div style=\"\n",
       "            margin: 25px 0 15px 0;\n",
       "            padding: 0;\n",
       "        \">\n",
       "            <h2 style=\"\n",
       "                font-size: 24px;\n",
       "                font-weight: 600;\n",
       "                color: #2c3e50;\n",
       "                margin: 0;\n",
       "                padding: 12px 0 8px 0;\n",
       "                display: inline-block;\n",
       "                font-family: 'Segoe UI', Tahoma, Geneva, Verdana, sans-serif;\n",
       "                background: linear-gradient(135deg, #667eea, #764ba2);\n",
       "                -webkit-background-clip: text;\n",
       "                -webkit-text-fill-color: transparent;\n",
       "                background-clip: text;\n",
       "            \">▶ Primitive Vs Non-Primitive Data Types</h2>\n",
       "        </div>\n",
       "    "
      ],
      "text/plain": [
       "<IPython.core.display.HTML object>"
      ]
     },
     "metadata": {},
     "output_type": "display_data"
    }
   ],
   "source": [
    "#hide\n",
    "utils.h1(\"Primitive Vs Non-Primitive Data Types\")"
   ]
  },
  {
   "cell_type": "markdown",
   "id": "9a1d2b58-800e-4aea-9a49-c4f6b5c52b48",
   "metadata": {},
   "source": [
    "An other classification if data types based on :\n",
    "- **Primitive data types** (Most basic and can't be further broken down)\n",
    "1. int\n",
    "2. float\n",
    "3. string\n",
    "4. None\n",
    "5. bool\n",
    "- **Non-Primitive data types** (Any data types or objects in python that are not primitive)\n",
    "1. list\n",
    "2. dict\n",
    "3. set\n",
    "4. tuple\n",
    "5. deque\n",
    "6. numpy.ndarray\n",
    "7. pandas.DataFrame\n",
    "8. torch.Tensor\n",
    "9. a function (yes even a function in python is an object that has data like name of the function, inputs it takes, etc.)"
   ]
  },
  {
   "cell_type": "code",
   "execution_count": 6,
   "id": "da3288eb-a16a-42db-ad84-acd600dbbd87",
   "metadata": {
    "jupyter": {
     "source_hidden": true
    }
   },
   "outputs": [
    {
     "data": {
      "text/html": [
       "\n",
       "    <div style=\"\n",
       "        margin: 15px 0; \n",
       "        padding: 16px 20px; \n",
       "        border-radius: 8px; \n",
       "        border-left: 4px solid #9c27b0; \n",
       "        display: flex; \n",
       "        align-items: flex-start; \n",
       "        gap: 12px; \n",
       "        box-shadow: 0 2px 8px rgba(0, 0, 0, 0.1); \n",
       "        background-color: #f3e5f5; \n",
       "        color: #4a148c;\n",
       "        font-family: -apple-system, BlinkMacSystemFont, 'Segoe UI', Roboto, sans-serif;\n",
       "    \">\n",
       "        <div style=\"\n",
       "            font-size: 20px; \n",
       "            margin-top: 2px; \n",
       "            flex-shrink: 0;\n",
       "        \">⭐</div>\n",
       "        <div style=\"flex: 1;\">\n",
       "            <div style=\"\n",
       "                font-weight: bold; \n",
       "                margin-bottom: 6px; \n",
       "                font-size: 14px; \n",
       "                text-transform: uppercase; \n",
       "                letter-spacing: 0.5px;\n",
       "            \">Important</div>\n",
       "            <div style=\"\n",
       "                margin: 0; \n",
       "                font-size: 14px; \n",
       "                line-height: 1.5;\n",
       "            \">Although we are calling them as non-primitive data types, but they are data structures</div>\n",
       "        </div>\n",
       "    </div>\n",
       "    "
      ],
      "text/plain": [
       "<IPython.core.display.HTML object>"
      ]
     },
     "execution_count": 6,
     "metadata": {},
     "output_type": "execute_result"
    }
   ],
   "source": [
    "#hide\n",
    "utils.important(\"Although we are calling them as non-primitive data types, but they are data structures\")"
   ]
  },
  {
   "cell_type": "code",
   "execution_count": 7,
   "id": "cf3d4a92-a3fe-494e-a3f1-c812a152e021",
   "metadata": {
    "jupyter": {
     "source_hidden": true
    }
   },
   "outputs": [
    {
     "data": {
      "text/html": [
       "\n",
       "    <div style=\"\n",
       "        margin: 15px 0; \n",
       "        padding: 16px 20px; \n",
       "        border-radius: 8px; \n",
       "        border-left: 4px solid #42a5f5; \n",
       "        display: flex; \n",
       "        align-items: flex-start; \n",
       "        gap: 12px; \n",
       "        box-shadow: 0 2px 8px rgba(0, 0, 0, 0.1); \n",
       "        background-color: #e3f2fd; \n",
       "        color: #1565c0;\n",
       "        font-family: -apple-system, BlinkMacSystemFont, 'Segoe UI', Roboto, sans-serif;\n",
       "    \">\n",
       "        <div style=\"\n",
       "            font-size: 20px; \n",
       "            margin-top: 2px; \n",
       "            flex-shrink: 0;\n",
       "        \">🔜</div>\n",
       "        <div style=\"flex: 1;\">\n",
       "            <div style=\"\n",
       "                font-weight: bold; \n",
       "                margin-bottom: 6px; \n",
       "                font-size: 14px; \n",
       "                text-transform: uppercase; \n",
       "                letter-spacing: 0.5px;\n",
       "            \">Coming Up Next</div>\n",
       "            <div style=\"\n",
       "                margin: 0; \n",
       "                font-size: 14px; \n",
       "                line-height: 1.5;\n",
       "            \">We will look into these datatypes one by one</div>\n",
       "        </div>\n",
       "    </div>\n",
       "    "
      ],
      "text/plain": [
       "<IPython.core.display.HTML object>"
      ]
     },
     "execution_count": 7,
     "metadata": {},
     "output_type": "execute_result"
    }
   ],
   "source": [
    "#hide\n",
    "utils.upcoming(\"We will look into these datatypes one by one\")"
   ]
  },
  {
   "cell_type": "code",
   "execution_count": null,
   "id": "76db8fc2-bb53-4aba-814a-f7954cbf7d8f",
   "metadata": {},
   "outputs": [],
   "source": []
  },
  {
   "cell_type": "code",
   "execution_count": null,
   "id": "c12d89b7-d068-4be2-bae1-fbdc7e234c14",
   "metadata": {},
   "outputs": [],
   "source": []
  }
 ],
 "metadata": {
  "kernelspec": {
   "display_name": "Python 3 (ipykernel)",
   "language": "python",
   "name": "python3"
  },
  "language_info": {
   "codemirror_mode": {
    "name": "ipython",
    "version": 3
   },
   "file_extension": ".py",
   "mimetype": "text/x-python",
   "name": "python",
   "nbconvert_exporter": "python",
   "pygments_lexer": "ipython3",
   "version": "3.12.0"
  }
 },
 "nbformat": 4,
 "nbformat_minor": 5
}
