{
 "cells": [
  {
   "cell_type": "code",
   "execution_count": 1,
   "id": "6bcb7664-8a2b-4c1a-8335-b7f4c775abfc",
   "metadata": {},
   "outputs": [],
   "source": [
    "#hide"
   ]
  },
  {
   "cell_type": "code",
   "execution_count": 1,
   "id": "6908fbfb-95a5-453a-9eb1-943380cd016e",
   "metadata": {
    "jupyter": {
     "source_hidden": true
    }
   },
   "outputs": [
    {
     "data": {
      "text/html": [
       "\n",
       "    <div style=\"\n",
       "        position: relative;\n",
       "        display: flex; \n",
       "        align-items: center; \n",
       "        justify-content: flex-start;\n",
       "        min-height: 80px;\n",
       "        width: 800px;\n",
       "        background: linear-gradient(135deg, #f5f7fa 0%, #c3cfe2 100%);\n",
       "        padding: 20px;\n",
       "        border-radius: 12px;\n",
       "        box-shadow: 0 4px 15px rgba(0, 0, 0, 0.1);\n",
       "        border: 1px solid #e1e8ed;\n",
       "        margin: 10px 0;\n",
       "        font-family: 'Segoe UI', Tahoma, Geneva, Verdana, sans-serif;\n",
       "    \">\n",
       "\n",
       "        <!-- GitHub Icon + Name in top-right -->\n",
       "        <a href=\"https://github.com/meluron\" target=\"_blank\" style=\"\n",
       "            position: absolute;\n",
       "            top: 16px;\n",
       "            right: 20px;\n",
       "            display: flex;\n",
       "            align-items: center;\n",
       "            text-decoration: none;\n",
       "            color: #333;\n",
       "            font-size: 14px;\n",
       "            font-weight: 500;\n",
       "            gap: 6px;\n",
       "        \">\n",
       "            <img src=\"https://cdn-icons-png.flaticon.com/512/25/25231.png\" \n",
       "                 alt=\"GitHub\" \n",
       "                 style=\"width: 18px; height: 18px; display: inline-block; vertical-align: middle;\">\n",
       "            <span style=\"transform: translateY(-1px); line-height: 1;\">\n",
       "                /meluron-codecafe\n",
       "            </span>\n",
       "        </a>\n",
       "\n",
       "        <!-- Logo + Label stacked vertically -->\n",
       "        <div style=\"\n",
       "            display: flex; \n",
       "            flex-direction: column; \n",
       "            align-items: center; \n",
       "            justify-content: center;\n",
       "            margin-right: 35px;\n",
       "        \">\n",
       "            <a href=\"https://github.com/meluron\" target=\"_blank\">\n",
       "                <img src=\"https://raw.githubusercontent.com/meluron/assets/refs/heads/main/logos/meluron-codecafe/orig.png\" \n",
       "                     alt=\"My Logo\" \n",
       "                     style=\"\n",
       "                        width: 70px; \n",
       "                        height: 70px;\n",
       "                        border-radius: 8px;\n",
       "                        box-shadow: 0 3px 10px rgba(253, 138, 9, 0.3);\n",
       "                     \">\n",
       "            </a>\n",
       "            <div style=\"\n",
       "                font-size: 13px; \n",
       "                color: #fd8a09; \n",
       "                font-weight: bold;\n",
       "                margin-top: 6px;\n",
       "                text-align: center;\n",
       "            \">\n",
       "            </div>\n",
       "        </div>\n",
       "\n",
       "        <!-- Topic Badge -->\n",
       "        <div style=\"\n",
       "            font-size: 14px; \n",
       "            background: linear-gradient(135deg, #667eea, #764ba2);\n",
       "            color: white; \n",
       "            padding: 8px 14px; \n",
       "            border-radius: 20px; \n",
       "            display: inline-flex;\n",
       "            align-items: center;\n",
       "            gap: 6px;\n",
       "            font-weight: 600;\n",
       "            box-shadow: 0 3px 12px rgba(102, 126, 234, 0.3);\n",
       "        \">\n",
       "            <span style=\"font-size: 16px;\">🎯</span>\n",
       "            Topic: Getting To Know 'int' Better\n",
       "        </div>\n",
       "    </div>\n",
       "    "
      ],
      "text/plain": [
       "<IPython.core.display.HTML object>"
      ]
     },
     "metadata": {},
     "output_type": "display_data"
    }
   ],
   "source": [
    "#hide\n",
    "import utils\n",
    "utils.hero(\"Getting To Know 'int' Better\")"
   ]
  },
  {
   "cell_type": "code",
   "execution_count": 2,
   "id": "5ed6c1a5-2e34-443e-ba38-0f1617f8b658",
   "metadata": {
    "jupyter": {
     "source_hidden": true
    }
   },
   "outputs": [
    {
     "data": {
      "text/html": [
       "\n",
       "        <div style=\"\n",
       "            margin: 25px 0 15px 0;\n",
       "            padding: 0;\n",
       "        \">\n",
       "            <h2 style=\"\n",
       "                font-size: 24px;\n",
       "                font-weight: 600;\n",
       "                color: #2c3e50;\n",
       "                margin: 0;\n",
       "                padding: 12px 0 8px 0;\n",
       "                display: inline-block;\n",
       "                font-family: 'Segoe UI', Tahoma, Geneva, Verdana, sans-serif;\n",
       "                background: linear-gradient(135deg, #667eea, #764ba2);\n",
       "                -webkit-background-clip: text;\n",
       "                -webkit-text-fill-color: transparent;\n",
       "                background-clip: text;\n",
       "            \">▶ Numerical Representation</h2>\n",
       "        </div>\n",
       "    "
      ],
      "text/plain": [
       "<IPython.core.display.HTML object>"
      ]
     },
     "metadata": {},
     "output_type": "display_data"
    }
   ],
   "source": [
    "#hide\n",
    "utils.h1(\"Numerical Representation\")"
   ]
  },
  {
   "cell_type": "markdown",
   "id": "1c98d2da-3f09-4561-b31a-e18f84620988",
   "metadata": {},
   "source": [
    "Numerical representation is used to describe measurable quantities. To store them in memory, we have dedicated built-in dataypes in python. \\\n",
    "These data types are:\n",
    "1. int: For storing integer values\n",
    "2. float: For storing decimal values"
   ]
  },
  {
   "cell_type": "code",
   "execution_count": 3,
   "id": "87dc22fa-4daf-4465-b352-c32c436c2ec9",
   "metadata": {
    "jupyter": {
     "source_hidden": true
    }
   },
   "outputs": [
    {
     "data": {
      "text/html": [
       "\n",
       "    <div style=\"\n",
       "        margin: 15px 0; \n",
       "        padding: 16px 20px; \n",
       "        border-radius: 8px; \n",
       "        border-left: 4px solid #2196f3; \n",
       "        display: flex; \n",
       "        align-items: flex-start; \n",
       "        gap: 12px; \n",
       "        box-shadow: 0 2px 8px rgba(0, 0, 0, 0.1); \n",
       "        background-color: #e3f2fd; \n",
       "        color: #0d47a1;\n",
       "        font-family: -apple-system, BlinkMacSystemFont, 'Segoe UI', Roboto, sans-serif;\n",
       "    \">\n",
       "        <div style=\"\n",
       "            font-size: 20px; \n",
       "            margin-top: 2px; \n",
       "            flex-shrink: 0;\n",
       "        \">📝</div>\n",
       "        <div style=\"flex: 1;\">\n",
       "            <div style=\"\n",
       "                font-weight: bold; \n",
       "                margin-bottom: 6px; \n",
       "                font-size: 14px; \n",
       "                text-transform: uppercase; \n",
       "                letter-spacing: 0.5px;\n",
       "            \">Note</div>\n",
       "            <div style=\"\n",
       "                margin: 0; \n",
       "                font-size: 14px; \n",
       "                line-height: 1.5;\n",
       "            \">Numbers can also be stored as word (string) by treating each digit as characters but you will not be able to use built-in operations defined for int/float</div>\n",
       "        </div>\n",
       "    </div>\n",
       "    "
      ],
      "text/plain": [
       "<IPython.core.display.HTML object>"
      ]
     },
     "execution_count": 3,
     "metadata": {},
     "output_type": "execute_result"
    }
   ],
   "source": [
    "#hide\n",
    "utils.note(\"Numbers can also be stored as word (string) by treating each digit as characters but you will not be able to use built-in operations defined for int/float\")"
   ]
  },
  {
   "cell_type": "code",
   "execution_count": 4,
   "id": "6b2ba966-4ee0-4f8a-81d6-0c607caf1e09",
   "metadata": {
    "jupyter": {
     "source_hidden": true
    }
   },
   "outputs": [
    {
     "data": {
      "text/html": [
       "\n",
       "        <div style=\"\n",
       "            margin: 25px 0 15px 0;\n",
       "            padding: 0;\n",
       "        \">\n",
       "            <h2 style=\"\n",
       "                font-size: 24px;\n",
       "                font-weight: 600;\n",
       "                color: #2c3e50;\n",
       "                margin: 0;\n",
       "                padding: 12px 0 8px 0;\n",
       "                display: inline-block;\n",
       "                font-family: 'Segoe UI', Tahoma, Geneva, Verdana, sans-serif;\n",
       "                background: linear-gradient(135deg, #667eea, #764ba2);\n",
       "                -webkit-background-clip: text;\n",
       "                -webkit-text-fill-color: transparent;\n",
       "                background-clip: text;\n",
       "            \">▶ Important information about data type</h2>\n",
       "        </div>\n",
       "    "
      ],
      "text/plain": [
       "<IPython.core.display.HTML object>"
      ]
     },
     "metadata": {},
     "output_type": "display_data"
    }
   ],
   "source": [
    "#hide\n",
    "utils.h1(\"Important information about data type\")"
   ]
  },
  {
   "cell_type": "markdown",
   "id": "96938be5-81a5-4cc7-800e-18772ea414fe",
   "metadata": {},
   "source": [
    "For any datatype, one must know these information about them:\n",
    "1. How to create an object/instance of a data type class?\n",
    "2. How much memory does it consume?\n",
    "3. How to find out the memory location where it is stored?\n",
    "4. Can you make changes in the data once created? (Mutable and Immutable datatypes)\n",
    "5. What are the common methods that can be applied to the value?\n",
    "6. How is it represented internally? (small integer caching, string interning)\n",
    "7. Is it iterable or indexable?\n",
    "\n",
    "We will answer these questions for each of the data types."
   ]
  },
  {
   "cell_type": "code",
   "execution_count": 5,
   "id": "50a6b8e9-71b9-4a60-8351-9ee95386e5ef",
   "metadata": {
    "jupyter": {
     "source_hidden": true
    }
   },
   "outputs": [
    {
     "data": {
      "text/html": [
       "\n",
       "        <div style=\"\n",
       "            margin: 25px 0 15px 0;\n",
       "            padding: 0;\n",
       "        \">\n",
       "            <h2 style=\"\n",
       "                font-size: 24px;\n",
       "                font-weight: 600;\n",
       "                color: #2c3e50;\n",
       "                margin: 0;\n",
       "                padding: 12px 0 8px 0;\n",
       "                display: inline-block;\n",
       "                font-family: 'Segoe UI', Tahoma, Geneva, Verdana, sans-serif;\n",
       "                background: linear-gradient(135deg, #667eea, #764ba2);\n",
       "                -webkit-background-clip: text;\n",
       "                -webkit-text-fill-color: transparent;\n",
       "                background-clip: text;\n",
       "            \">▶ Int</h2>\n",
       "        </div>\n",
       "    "
      ],
      "text/plain": [
       "<IPython.core.display.HTML object>"
      ]
     },
     "metadata": {},
     "output_type": "display_data"
    }
   ],
   "source": [
    "#hide\n",
    "utils.h1(\"Int\")"
   ]
  },
  {
   "cell_type": "code",
   "execution_count": 6,
   "id": "8257774d-e691-4d7e-8131-9866830b4324",
   "metadata": {
    "jupyter": {
     "source_hidden": true
    }
   },
   "outputs": [
    {
     "data": {
      "text/html": [
       "\n",
       "        <div style=\"\n",
       "            margin: 25px 0 15px 0;\n",
       "            padding: 0;\n",
       "        \">\n",
       "            <h3 style=\"\n",
       "                font-size: 18px;\n",
       "                font-weight: 600;\n",
       "                color: #2c3e50;\n",
       "                margin: 0;\n",
       "                padding: 12px 0 8px 0;\n",
       "                display: inline-block;\n",
       "                border-bottom: 3px solid #667eea;\n",
       "                font-family: 'Segoe UI', Tahoma, Geneva, Verdana, sans-serif;\n",
       "                background: linear-gradient(135deg, #667eea, #764ba2);\n",
       "                -webkit-background-clip: text;\n",
       "                -webkit-text-fill-color: transparent;\n",
       "                background-clip: text;\n",
       "            \">Declaration</h3>\n",
       "        </div>\n",
       "    "
      ],
      "text/plain": [
       "<IPython.core.display.HTML object>"
      ]
     },
     "metadata": {},
     "output_type": "display_data"
    }
   ],
   "source": [
    "#hide\n",
    "utils.h2(\"Declaration\")"
   ]
  },
  {
   "cell_type": "code",
   "execution_count": 7,
   "id": "9d15a68e-e14b-482d-87bb-9471c2880f97",
   "metadata": {},
   "outputs": [
    {
     "name": "stdout",
     "output_type": "stream",
     "text": [
      "10 <class 'int'>\n",
      "20 <class 'int'>\n",
      "----------------------------------------------------------------------------------------------------\n"
     ]
    }
   ],
   "source": [
    "# Declaration\n",
    "a = 10 # Literal declaration, no additional overhead\n",
    "print(f\"{a} {type(a)}\")\n",
    "# OR \n",
    "b = int(20) # Calling the constructor, additional overhead\n",
    "print(f\"{b} {type(b)}\")\n",
    "print(\"-\"*100)"
   ]
  },
  {
   "cell_type": "code",
   "execution_count": 8,
   "id": "15b22628-439d-4014-b20e-0fd911e8e982",
   "metadata": {
    "jupyter": {
     "source_hidden": true
    }
   },
   "outputs": [
    {
     "data": {
      "text/html": [
       "\n",
       "    <div style=\"\n",
       "        margin: 15px 0; \n",
       "        padding: 16px 20px; \n",
       "        border-radius: 8px; \n",
       "        border-left: 4px solid #9c27b0; \n",
       "        display: flex; \n",
       "        align-items: flex-start; \n",
       "        gap: 12px; \n",
       "        box-shadow: 0 2px 8px rgba(0, 0, 0, 0.1); \n",
       "        background-color: #f3e5f5; \n",
       "        color: #4a148c;\n",
       "        font-family: -apple-system, BlinkMacSystemFont, 'Segoe UI', Roboto, sans-serif;\n",
       "    \">\n",
       "        <div style=\"\n",
       "            font-size: 20px; \n",
       "            margin-top: 2px; \n",
       "            flex-shrink: 0;\n",
       "        \">⭐</div>\n",
       "        <div style=\"flex: 1;\">\n",
       "            <div style=\"\n",
       "                font-weight: bold; \n",
       "                margin-bottom: 6px; \n",
       "                font-size: 14px; \n",
       "                text-transform: uppercase; \n",
       "                letter-spacing: 0.5px;\n",
       "            \">Important</div>\n",
       "            <div style=\"\n",
       "                margin: 0; \n",
       "                font-size: 14px; \n",
       "                line-height: 1.5;\n",
       "            \">The variable 'a' and 'b' only stores the memory location of the objects and the values itself</div>\n",
       "        </div>\n",
       "    </div>\n",
       "    "
      ],
      "text/plain": [
       "<IPython.core.display.HTML object>"
      ]
     },
     "execution_count": 8,
     "metadata": {},
     "output_type": "execute_result"
    }
   ],
   "source": [
    "#hide\n",
    "utils.important(\"The variable 'a' and 'b' only stores the memory location of the objects and the values itself\")"
   ]
  },
  {
   "cell_type": "code",
   "execution_count": 9,
   "id": "7ae505cd-0114-49c5-8a50-d8322d80a9d3",
   "metadata": {
    "jupyter": {
     "source_hidden": true
    }
   },
   "outputs": [
    {
     "data": {
      "text/html": [
       "\n",
       "    <div style=\"\n",
       "        margin: 15px 0; \n",
       "        padding: 16px 20px; \n",
       "        border-radius: 8px; \n",
       "        border-left: 4px solid #4caf50; \n",
       "        display: flex; \n",
       "        align-items: flex-start; \n",
       "        gap: 12px; \n",
       "        box-shadow: 0 2px 8px rgba(0, 0, 0, 0.1); \n",
       "        background-color: #e8f5e8; \n",
       "        color: #1b5e20;\n",
       "        font-family: -apple-system, BlinkMacSystemFont, 'Segoe UI', Roboto, sans-serif;\n",
       "    \">\n",
       "        <div style=\"\n",
       "            font-size: 20px; \n",
       "            margin-top: 2px; \n",
       "            flex-shrink: 0;\n",
       "        \">💡</div>\n",
       "        <div style=\"flex: 1;\">\n",
       "            <div style=\"\n",
       "                font-weight: bold; \n",
       "                margin-bottom: 6px; \n",
       "                font-size: 14px; \n",
       "                text-transform: uppercase; \n",
       "                letter-spacing: 0.5px;\n",
       "            \">Tip</div>\n",
       "            <div style=\"\n",
       "                margin: 0; \n",
       "                font-size: 14px; \n",
       "                line-height: 1.5;\n",
       "            \">Use literal declaration unless intended for type conversion</div>\n",
       "        </div>\n",
       "    </div>\n",
       "    "
      ],
      "text/plain": [
       "<IPython.core.display.HTML object>"
      ]
     },
     "execution_count": 9,
     "metadata": {},
     "output_type": "execute_result"
    }
   ],
   "source": [
    "#hide\n",
    "utils.tip(\"Use literal declaration unless intended for type conversion\")"
   ]
  },
  {
   "cell_type": "code",
   "execution_count": 10,
   "id": "1ee410c6-b397-41a0-b62a-bc6631abf841",
   "metadata": {
    "jupyter": {
     "source_hidden": true
    }
   },
   "outputs": [
    {
     "data": {
      "text/html": [
       "\n",
       "        <div style=\"\n",
       "            margin: 25px 0 15px 0;\n",
       "            padding: 0;\n",
       "        \">\n",
       "            <h3 style=\"\n",
       "                font-size: 18px;\n",
       "                font-weight: 600;\n",
       "                color: #2c3e50;\n",
       "                margin: 0;\n",
       "                padding: 12px 0 8px 0;\n",
       "                display: inline-block;\n",
       "                border-bottom: 3px solid #667eea;\n",
       "                font-family: 'Segoe UI', Tahoma, Geneva, Verdana, sans-serif;\n",
       "                background: linear-gradient(135deg, #667eea, #764ba2);\n",
       "                -webkit-background-clip: text;\n",
       "                -webkit-text-fill-color: transparent;\n",
       "                background-clip: text;\n",
       "            \">Finding Memory Consumption</h3>\n",
       "        </div>\n",
       "    "
      ],
      "text/plain": [
       "<IPython.core.display.HTML object>"
      ]
     },
     "metadata": {},
     "output_type": "display_data"
    }
   ],
   "source": [
    "#hide\n",
    "utils.h2(\"Finding Memory Consumption\")"
   ]
  },
  {
   "cell_type": "code",
   "execution_count": 11,
   "id": "1e5a42fe-4975-4336-9b48-ca6cdd60333c",
   "metadata": {},
   "outputs": [
    {
     "name": "stdout",
     "output_type": "stream",
     "text": [
      "Memory used by the object a=10 is 28 bytes\n",
      "Memory used by the object b=20 is 28 bytes\n",
      "Memory used by the object a=10 is 28 bytes\n",
      "Memory used by the object b=20 is 28 bytes\n",
      "----------------------------------------------------------------------------------------------------\n"
     ]
    }
   ],
   "source": [
    "# To find the memory consumption, we can use \"sys\" module\n",
    "import sys\n",
    "print(f\"Memory used by the object a={a} is {sys.getsizeof(a)} bytes\")\n",
    "print(f\"Memory used by the object b={b} is {sys.getsizeof(b)} bytes\")\n",
    "\n",
    "# For some built-in datatypes we also have a method '__sizeof__' that gives us the size excluding (garbage collector overhead)\n",
    "print(f\"Memory used by the object a={a} is {a.__sizeof__()} bytes\")\n",
    "print(f\"Memory used by the object b={b} is {b.__sizeof__()} bytes\")\n",
    "print(\"-\"*100)"
   ]
  },
  {
   "cell_type": "code",
   "execution_count": 12,
   "id": "e17ce1fd-cfec-437f-8306-74048acf9fea",
   "metadata": {
    "jupyter": {
     "source_hidden": true
    }
   },
   "outputs": [
    {
     "data": {
      "text/html": [
       "\n",
       "    <div style=\"\n",
       "        margin: 15px 0; \n",
       "        padding: 16px 20px; \n",
       "        border-radius: 8px; \n",
       "        border-left: 4px solid #9c27b0; \n",
       "        display: flex; \n",
       "        align-items: flex-start; \n",
       "        gap: 12px; \n",
       "        box-shadow: 0 2px 8px rgba(0, 0, 0, 0.1); \n",
       "        background-color: #f3e5f5; \n",
       "        color: #4a148c;\n",
       "        font-family: -apple-system, BlinkMacSystemFont, 'Segoe UI', Roboto, sans-serif;\n",
       "    \">\n",
       "        <div style=\"\n",
       "            font-size: 20px; \n",
       "            margin-top: 2px; \n",
       "            flex-shrink: 0;\n",
       "        \">⭐</div>\n",
       "        <div style=\"flex: 1;\">\n",
       "            <div style=\"\n",
       "                font-weight: bold; \n",
       "                margin-bottom: 6px; \n",
       "                font-size: 14px; \n",
       "                text-transform: uppercase; \n",
       "                letter-spacing: 0.5px;\n",
       "            \">Important</div>\n",
       "            <div style=\"\n",
       "                margin: 0; \n",
       "                font-size: 14px; \n",
       "                line-height: 1.5;\n",
       "            \">The additional size of python int is due to its flexible internal design, which allows to handle arbitary-sized integers (unlike C)</div>\n",
       "        </div>\n",
       "    </div>\n",
       "    "
      ],
      "text/plain": [
       "<IPython.core.display.HTML object>"
      ]
     },
     "execution_count": 12,
     "metadata": {},
     "output_type": "execute_result"
    }
   ],
   "source": [
    "#hide\n",
    "utils.important(\"The additional size of python int is due to its flexible internal design, which allows \\\n",
    "to handle arbitary-sized integers (unlike C)\")"
   ]
  },
  {
   "cell_type": "code",
   "execution_count": 13,
   "id": "d7e0645c-bacc-4d72-afa0-343b4e98369e",
   "metadata": {
    "jupyter": {
     "source_hidden": true
    }
   },
   "outputs": [
    {
     "data": {
      "text/html": [
       "\n",
       "    <div style=\"\n",
       "        margin: 15px 0; \n",
       "        padding: 16px 20px; \n",
       "        border-radius: 8px; \n",
       "        border-left: 4px solid #3f51b5; \n",
       "        display: flex; \n",
       "        align-items: flex-start; \n",
       "        gap: 12px; \n",
       "        box-shadow: 0 2px 8px rgba(0, 0, 0, 0.1); \n",
       "        background-color: #e8eaf6; \n",
       "        color: #1a237e;\n",
       "        font-family: -apple-system, BlinkMacSystemFont, 'Segoe UI', Roboto, sans-serif;\n",
       "    \">\n",
       "        <div style=\"\n",
       "            font-size: 20px; \n",
       "            margin-top: 2px; \n",
       "            flex-shrink: 0;\n",
       "        \">🏋️</div>\n",
       "        <div style=\"flex: 1;\">\n",
       "            <div style=\"\n",
       "                font-weight: bold; \n",
       "                margin-bottom: 6px; \n",
       "                font-size: 14px; \n",
       "                text-transform: uppercase; \n",
       "                letter-spacing: 0.5px;\n",
       "            \">Exercise</div>\n",
       "            <div style=\"\n",
       "                margin: 0; \n",
       "                font-size: 14px; \n",
       "                line-height: 1.5;\n",
       "            \">Find the size of integer ranging from 1e0 to 1e100</div>\n",
       "        </div>\n",
       "    </div>\n",
       "    "
      ],
      "text/plain": [
       "<IPython.core.display.HTML object>"
      ]
     },
     "execution_count": 13,
     "metadata": {},
     "output_type": "execute_result"
    }
   ],
   "source": [
    "#hide\n",
    "utils.exercise(\"Find the size of integer ranging from 1e0 to 1e100\")"
   ]
  },
  {
   "cell_type": "code",
   "execution_count": 14,
   "id": "94d1b109-bec0-4cbe-804d-26284682ee92",
   "metadata": {},
   "outputs": [],
   "source": [
    "# Your solution"
   ]
  },
  {
   "cell_type": "code",
   "execution_count": 15,
   "id": "0be6e360-daf7-4758-b1cd-5e0e7f2b2063",
   "metadata": {
    "jupyter": {
     "source_hidden": true
    }
   },
   "outputs": [
    {
     "name": "stdout",
     "output_type": "stream",
     "text": [
      "1.00e+00 || Memory: 28 bytes\n",
      "1.00e+10 || Memory: 32 bytes\n",
      "1.00e+20 || Memory: 36 bytes\n",
      "1.00e+30 || Memory: 40 bytes\n",
      "1.00e+40 || Memory: 44 bytes\n",
      "1.00e+50 || Memory: 48 bytes\n",
      "1.00e+60 || Memory: 52 bytes\n",
      "1.00e+70 || Memory: 56 bytes\n",
      "1.00e+80 || Memory: 60 bytes\n",
      "1.00e+90 || Memory: 64 bytes\n",
      "----------------------------------------------------------------------------------------------------\n"
     ]
    }
   ],
   "source": [
    "# Solution\n",
    "import sys\n",
    "\n",
    "vals = [10**val for val in range(0, 100, 10)] # [1, 1e10, 1e20, 1e30, ...] (all integer type)\n",
    "\n",
    "for val in vals:\n",
    "    print(f\"{val:.2e} || Memory: {sys.getsizeof(val)} bytes\")\n",
    "print(\"-\"*100)"
   ]
  },
  {
   "cell_type": "code",
   "execution_count": 16,
   "id": "0ef265ad-f376-4a17-baf6-d01265020942",
   "metadata": {
    "jupyter": {
     "source_hidden": true
    }
   },
   "outputs": [
    {
     "data": {
      "text/html": [
       "\n",
       "    <div style=\"\n",
       "        margin: 15px 0; \n",
       "        padding: 16px 20px; \n",
       "        border-radius: 8px; \n",
       "        border-left: 4px solid #2196f3; \n",
       "        display: flex; \n",
       "        align-items: flex-start; \n",
       "        gap: 12px; \n",
       "        box-shadow: 0 2px 8px rgba(0, 0, 0, 0.1); \n",
       "        background-color: #e3f2fd; \n",
       "        color: #0d47a1;\n",
       "        font-family: -apple-system, BlinkMacSystemFont, 'Segoe UI', Roboto, sans-serif;\n",
       "    \">\n",
       "        <div style=\"\n",
       "            font-size: 20px; \n",
       "            margin-top: 2px; \n",
       "            flex-shrink: 0;\n",
       "        \">📝</div>\n",
       "        <div style=\"flex: 1;\">\n",
       "            <div style=\"\n",
       "                font-weight: bold; \n",
       "                margin-bottom: 6px; \n",
       "                font-size: 14px; \n",
       "                text-transform: uppercase; \n",
       "                letter-spacing: 0.5px;\n",
       "            \">Note</div>\n",
       "            <div style=\"\n",
       "                margin: 0; \n",
       "                font-size: 14px; \n",
       "                line-height: 1.5;\n",
       "            \">This is an advance feature of python that the size of the int object adapts to the value it contains. This makes 'int' precision infinite (limited only by memory)</div>\n",
       "        </div>\n",
       "    </div>\n",
       "    "
      ],
      "text/plain": [
       "<IPython.core.display.HTML object>"
      ]
     },
     "execution_count": 16,
     "metadata": {},
     "output_type": "execute_result"
    }
   ],
   "source": [
    "#hide\n",
    "utils.note(\"This is an advance feature of python that the size of the int object adapts to the value it contains. \\\n",
    "This makes 'int' precision infinite (limited only by memory)\")"
   ]
  },
  {
   "cell_type": "code",
   "execution_count": 17,
   "id": "d0798952-3a5d-438f-9ac4-d99633d54098",
   "metadata": {
    "jupyter": {
     "source_hidden": true
    }
   },
   "outputs": [
    {
     "data": {
      "text/html": [
       "\n",
       "        <div style=\"\n",
       "            margin: 25px 0 15px 0;\n",
       "            padding: 0;\n",
       "        \">\n",
       "            <h3 style=\"\n",
       "                font-size: 18px;\n",
       "                font-weight: 600;\n",
       "                color: #2c3e50;\n",
       "                margin: 0;\n",
       "                padding: 12px 0 8px 0;\n",
       "                display: inline-block;\n",
       "                border-bottom: 3px solid #667eea;\n",
       "                font-family: 'Segoe UI', Tahoma, Geneva, Verdana, sans-serif;\n",
       "                background: linear-gradient(135deg, #667eea, #764ba2);\n",
       "                -webkit-background-clip: text;\n",
       "                -webkit-text-fill-color: transparent;\n",
       "                background-clip: text;\n",
       "            \">Finding Memory Location</h3>\n",
       "        </div>\n",
       "    "
      ],
      "text/plain": [
       "<IPython.core.display.HTML object>"
      ]
     },
     "metadata": {},
     "output_type": "display_data"
    }
   ],
   "source": [
    "#hide\n",
    "utils.h2(\"Finding Memory Location\")"
   ]
  },
  {
   "cell_type": "code",
   "execution_count": 18,
   "id": "5f9f840c-0988-407d-8225-9205873dae3b",
   "metadata": {},
   "outputs": [
    {
     "name": "stdout",
     "output_type": "stream",
     "text": [
      "'a' points to 4585058624 | 0x1114a7140\n",
      "----------------------------------------------------------------------------------------------------\n"
     ]
    }
   ],
   "source": [
    "# To find the memory location of an object, we have a built-in function in python called 'id'\n",
    "a = 20\n",
    "print(f\"'a' points to {id(a)} | {hex(id(a))}\")\n",
    "print(\"-\"*100)"
   ]
  },
  {
   "cell_type": "code",
   "execution_count": 19,
   "id": "548d65d9-7f2a-448a-9d81-10177eec60a8",
   "metadata": {
    "jupyter": {
     "source_hidden": true
    }
   },
   "outputs": [
    {
     "data": {
      "text/html": [
       "\n",
       "    <div style=\"\n",
       "        margin: 15px 0; \n",
       "        padding: 16px 20px; \n",
       "        border-radius: 8px; \n",
       "        border-left: 4px solid #3f51b5; \n",
       "        display: flex; \n",
       "        align-items: flex-start; \n",
       "        gap: 12px; \n",
       "        box-shadow: 0 2px 8px rgba(0, 0, 0, 0.1); \n",
       "        background-color: #e8eaf6; \n",
       "        color: #1a237e;\n",
       "        font-family: -apple-system, BlinkMacSystemFont, 'Segoe UI', Roboto, sans-serif;\n",
       "    \">\n",
       "        <div style=\"\n",
       "            font-size: 20px; \n",
       "            margin-top: 2px; \n",
       "            flex-shrink: 0;\n",
       "        \">🏋️</div>\n",
       "        <div style=\"flex: 1;\">\n",
       "            <div style=\"\n",
       "                font-weight: bold; \n",
       "                margin-bottom: 6px; \n",
       "                font-size: 14px; \n",
       "                text-transform: uppercase; \n",
       "                letter-spacing: 0.5px;\n",
       "            \">Exercise</div>\n",
       "            <div style=\"\n",
       "                margin: 0; \n",
       "                font-size: 14px; \n",
       "                line-height: 1.5;\n",
       "            \">Given the memory location 0x1114a7140, how can you find the value stored in that location?</div>\n",
       "        </div>\n",
       "    </div>\n",
       "    "
      ],
      "text/plain": [
       "<IPython.core.display.HTML object>"
      ]
     },
     "execution_count": 19,
     "metadata": {},
     "output_type": "execute_result"
    }
   ],
   "source": [
    "#hide\n",
    "utils.exercise(f\"Given the memory location {hex(id(a))}, how can you find the value stored in that location?\")"
   ]
  },
  {
   "cell_type": "code",
   "execution_count": 20,
   "id": "1f76b6c8-edbf-4e54-888c-bdc3e6f1e7f2",
   "metadata": {},
   "outputs": [],
   "source": [
    "# Your solution (hint: Use ctypes module)"
   ]
  },
  {
   "cell_type": "code",
   "execution_count": 21,
   "id": "7222ba22-6577-4f7a-9b8c-af2059fb09b5",
   "metadata": {
    "jupyter": {
     "source_hidden": true
    }
   },
   "outputs": [
    {
     "name": "stdout",
     "output_type": "stream",
     "text": [
      "20 <class 'int'>\n",
      "----------------------------------------------------------------------------------------------------\n"
     ]
    }
   ],
   "source": [
    "# Solution\n",
    "\n",
    "import ctypes\n",
    "value = ctypes.cast(obj=id(a), typ=ctypes.py_object).value # This is only for demonstration, use it extreme caution to avoid crash\n",
    "print(value, type(value))\n",
    "print(\"-\"*100)"
   ]
  },
  {
   "cell_type": "code",
   "execution_count": 22,
   "id": "9820e80f-b23e-4361-87f3-8b84b442c4de",
   "metadata": {
    "jupyter": {
     "source_hidden": true
    }
   },
   "outputs": [
    {
     "data": {
      "text/html": [
       "\n",
       "        <div style=\"\n",
       "            margin: 25px 0 15px 0;\n",
       "            padding: 0;\n",
       "        \">\n",
       "            <h3 style=\"\n",
       "                font-size: 18px;\n",
       "                font-weight: 600;\n",
       "                color: #2c3e50;\n",
       "                margin: 0;\n",
       "                padding: 12px 0 8px 0;\n",
       "                display: inline-block;\n",
       "                border-bottom: 3px solid #667eea;\n",
       "                font-family: 'Segoe UI', Tahoma, Geneva, Verdana, sans-serif;\n",
       "                background: linear-gradient(135deg, #667eea, #764ba2);\n",
       "                -webkit-background-clip: text;\n",
       "                -webkit-text-fill-color: transparent;\n",
       "                background-clip: text;\n",
       "            \">Mutable/Immutable?</h3>\n",
       "        </div>\n",
       "    "
      ],
      "text/plain": [
       "<IPython.core.display.HTML object>"
      ]
     },
     "metadata": {},
     "output_type": "display_data"
    }
   ],
   "source": [
    "#hide\n",
    "utils.h2(\"Mutable/Immutable?\")"
   ]
  },
  {
   "cell_type": "markdown",
   "id": "d5f9b79e-beaf-4275-a920-7c80b837e6d5",
   "metadata": {},
   "source": [
    "Everything we declare in Python is an object. By object, I mean an instance of a defined 'class'. \\\n",
    "When you create an object and assign it to a variable, the variable stores the memory location of the object or we say the variable points to the object. If the object at that memory location can be modified during runtime then the object and the associated data type is said to be **mutable** otherwise **immutable**."
   ]
  },
  {
   "cell_type": "code",
   "execution_count": 23,
   "id": "1ea8fd50-0e36-492b-afe9-2a890e587190",
   "metadata": {},
   "outputs": [
    {
     "name": "stdout",
     "output_type": "stream",
     "text": [
      "Variable 'a' points to 4585058304 where the stored value is 10\n",
      "Variable 'a' points to 4585058624 where the stored value is 20\n",
      "----------------------------------------------------------------------------------------------------\n"
     ]
    }
   ],
   "source": [
    "a = 10\n",
    "print(f\"Variable 'a' points to {id(a)} where the stored value is {a}\")\n",
    "a = 20\n",
    "print(f\"Variable 'a' points to {id(a)} where the stored value is {a}\")\n",
    "print(\"-\"*100)"
   ]
  },
  {
   "cell_type": "code",
   "execution_count": 24,
   "id": "dff5f171-1b6a-4dac-8030-8035b615a8ce",
   "metadata": {
    "jupyter": {
     "source_hidden": true
    }
   },
   "outputs": [
    {
     "data": {
      "text/html": [
       "\n",
       "    <div style=\"\n",
       "        margin: 15px 0; \n",
       "        padding: 16px 20px; \n",
       "        border-radius: 8px; \n",
       "        border-left: 4px solid #9c27b0; \n",
       "        display: flex; \n",
       "        align-items: flex-start; \n",
       "        gap: 12px; \n",
       "        box-shadow: 0 2px 8px rgba(0, 0, 0, 0.1); \n",
       "        background-color: #f3e5f5; \n",
       "        color: #6a1b9a;\n",
       "        font-family: -apple-system, BlinkMacSystemFont, 'Segoe UI', Roboto, sans-serif;\n",
       "    \">\n",
       "        <div style=\"\n",
       "            font-size: 20px; \n",
       "            margin-top: 2px; \n",
       "            flex-shrink: 0;\n",
       "        \">❓</div>\n",
       "        <div style=\"flex: 1;\">\n",
       "            <div style=\"\n",
       "                font-weight: bold; \n",
       "                margin-bottom: 6px; \n",
       "                font-size: 14px; \n",
       "                text-transform: uppercase; \n",
       "                letter-spacing: 0.5px;\n",
       "            \">Question</div>\n",
       "            <div style=\"\n",
       "                margin: 0; \n",
       "                font-size: 14px; \n",
       "                line-height: 1.5;\n",
       "            \">What happened when we changed the value of a to 20? Is 'int' mutable?</div>\n",
       "        </div>\n",
       "    </div>\n",
       "    "
      ],
      "text/plain": [
       "<IPython.core.display.HTML object>"
      ]
     },
     "execution_count": 24,
     "metadata": {},
     "output_type": "execute_result"
    }
   ],
   "source": [
    "#hide\n",
    "utils.question(\"What happened when we changed the value of a to 20? Is 'int' mutable?\")"
   ]
  },
  {
   "cell_type": "markdown",
   "id": "513e09bb-c5ca-4cf8-8ca5-3dd8ed89eee8",
   "metadata": {},
   "source": [
    "No, 'int' is immutable even though it seems like we managed to change the value (from 10 to 20) but under the hood when we tried to change the value by reassigning 'a' to 20, it actually created a new object(20) at a different memory location and then 'a' started pointing to the new object(20)"
   ]
  },
  {
   "cell_type": "code",
   "execution_count": 25,
   "id": "ff124ad6-fb4f-478e-a680-6ea8f7d6eb4c",
   "metadata": {
    "jupyter": {
     "source_hidden": true
    }
   },
   "outputs": [
    {
     "data": {
      "text/html": [
       "\n",
       "    <div style=\"\n",
       "        margin: 15px 0; \n",
       "        padding: 16px 20px; \n",
       "        border-radius: 8px; \n",
       "        border-left: 4px solid #3f51b5; \n",
       "        display: flex; \n",
       "        align-items: flex-start; \n",
       "        gap: 12px; \n",
       "        box-shadow: 0 2px 8px rgba(0, 0, 0, 0.1); \n",
       "        background-color: #e8eaf6; \n",
       "        color: #1a237e;\n",
       "        font-family: -apple-system, BlinkMacSystemFont, 'Segoe UI', Roboto, sans-serif;\n",
       "    \">\n",
       "        <div style=\"\n",
       "            font-size: 20px; \n",
       "            margin-top: 2px; \n",
       "            flex-shrink: 0;\n",
       "        \">🏋️</div>\n",
       "        <div style=\"flex: 1;\">\n",
       "            <div style=\"\n",
       "                font-weight: bold; \n",
       "                margin-bottom: 6px; \n",
       "                font-size: 14px; \n",
       "                text-transform: uppercase; \n",
       "                letter-spacing: 0.5px;\n",
       "            \">Exercise</div>\n",
       "            <div style=\"\n",
       "                margin: 0; \n",
       "                font-size: 14px; \n",
       "                line-height: 1.5;\n",
       "            \">Find out the value stored at the memory location that a was pointing before reassigning</div>\n",
       "        </div>\n",
       "    </div>\n",
       "    "
      ],
      "text/plain": [
       "<IPython.core.display.HTML object>"
      ]
     },
     "execution_count": 25,
     "metadata": {},
     "output_type": "execute_result"
    }
   ],
   "source": [
    "#hide\n",
    "utils.exercise(\"Find out the value stored at the memory location that a was pointing before reassigning\")"
   ]
  },
  {
   "cell_type": "code",
   "execution_count": 26,
   "id": "ff357467-8e46-40cb-9776-b66fe56d1fea",
   "metadata": {},
   "outputs": [],
   "source": [
    "# Your solution"
   ]
  },
  {
   "cell_type": "code",
   "execution_count": 27,
   "id": "e41b198c-e6be-481e-bd0e-7d477c23cbf3",
   "metadata": {
    "jupyter": {
     "source_hidden": true
    }
   },
   "outputs": [
    {
     "data": {
      "text/html": [
       "\n",
       "        <div style=\"\n",
       "            margin: 25px 0 15px 0;\n",
       "            padding: 0;\n",
       "        \">\n",
       "            <h3 style=\"\n",
       "                font-size: 18px;\n",
       "                font-weight: 600;\n",
       "                color: #2c3e50;\n",
       "                margin: 0;\n",
       "                padding: 12px 0 8px 0;\n",
       "                display: inline-block;\n",
       "                border-bottom: 3px solid #667eea;\n",
       "                font-family: 'Segoe UI', Tahoma, Geneva, Verdana, sans-serif;\n",
       "                background: linear-gradient(135deg, #667eea, #764ba2);\n",
       "                -webkit-background-clip: text;\n",
       "                -webkit-text-fill-color: transparent;\n",
       "                background-clip: text;\n",
       "            \">Available Methods for Int</h3>\n",
       "        </div>\n",
       "    "
      ],
      "text/plain": [
       "<IPython.core.display.HTML object>"
      ]
     },
     "metadata": {},
     "output_type": "display_data"
    }
   ],
   "source": [
    "#hide\n",
    "utils.h2(\"Available Methods for Int\")"
   ]
  },
  {
   "cell_type": "code",
   "execution_count": 28,
   "id": "692339b4-1f75-41a7-9ccf-f8af9f808917",
   "metadata": {
    "jupyter": {
     "source_hidden": true
    }
   },
   "outputs": [
    {
     "data": {
      "text/html": [
       "\n",
       "    <div style=\"\n",
       "        margin: 15px 0; \n",
       "        padding: 16px 20px; \n",
       "        border-radius: 8px; \n",
       "        border-left: 4px solid #4caf50; \n",
       "        display: flex; \n",
       "        align-items: flex-start; \n",
       "        gap: 12px; \n",
       "        box-shadow: 0 2px 8px rgba(0, 0, 0, 0.1); \n",
       "        background-color: #e8f5e8; \n",
       "        color: #1b5e20;\n",
       "        font-family: -apple-system, BlinkMacSystemFont, 'Segoe UI', Roboto, sans-serif;\n",
       "    \">\n",
       "        <div style=\"\n",
       "            font-size: 20px; \n",
       "            margin-top: 2px; \n",
       "            flex-shrink: 0;\n",
       "        \">💡</div>\n",
       "        <div style=\"flex: 1;\">\n",
       "            <div style=\"\n",
       "                font-weight: bold; \n",
       "                margin-bottom: 6px; \n",
       "                font-size: 14px; \n",
       "                text-transform: uppercase; \n",
       "                letter-spacing: 0.5px;\n",
       "            \">Tip</div>\n",
       "            <div style=\"\n",
       "                margin: 0; \n",
       "                font-size: 14px; \n",
       "                line-height: 1.5;\n",
       "            \">To find out all the parameters and methods available to an object, Python provides us 'dir' or '__dir__' that returns a list of all such parameters and methods</div>\n",
       "        </div>\n",
       "    </div>\n",
       "    "
      ],
      "text/plain": [
       "<IPython.core.display.HTML object>"
      ]
     },
     "execution_count": 28,
     "metadata": {},
     "output_type": "execute_result"
    }
   ],
   "source": [
    "#hide\n",
    "utils.tip(\"To find out all the parameters and methods available to an object, Python provides us 'dir' or '__dir__' that returns a list \\\n",
    "of all such parameters and methods\")"
   ]
  },
  {
   "cell_type": "code",
   "execution_count": 29,
   "id": "0cfcd3df-c05e-4efb-acde-e0dad15e2377",
   "metadata": {},
   "outputs": [
    {
     "name": "stdout",
     "output_type": "stream",
     "text": [
      "['__abs__', '__add__', '__and__', '__bool__', '__ceil__', '__class__', '__delattr__', '__dir__', '__divmod__', '__doc__', '__eq__', '__float__', '__floor__', '__floordiv__', '__format__', '__ge__', '__getattribute__', '__getnewargs__', '__getstate__', '__gt__', '__hash__', '__index__', '__init__', '__init_subclass__', '__int__', '__invert__', '__le__', '__lshift__', '__lt__', '__mod__', '__mul__', '__ne__', '__neg__', '__new__', '__or__', '__pos__', '__pow__', '__radd__', '__rand__', '__rdivmod__', '__reduce__', '__reduce_ex__', '__repr__', '__rfloordiv__', '__rlshift__', '__rmod__', '__rmul__', '__ror__', '__round__', '__rpow__', '__rrshift__', '__rshift__', '__rsub__', '__rtruediv__', '__rxor__', '__setattr__', '__sizeof__', '__str__', '__sub__', '__subclasshook__', '__truediv__', '__trunc__', '__xor__', 'as_integer_ratio', 'bit_count', 'bit_length', 'conjugate', 'denominator', 'from_bytes', 'imag', 'is_integer', 'numerator', 'real', 'to_bytes']\n",
      "----------------------------------------------------------------------------------------------------\n"
     ]
    }
   ],
   "source": [
    "a = 50\n",
    "print(dir(a))\n",
    "print(\"-\"*100)"
   ]
  },
  {
   "cell_type": "code",
   "execution_count": 31,
   "id": "8cb0ad41-f08b-4110-a712-d3fdd1b5bf47",
   "metadata": {
    "jupyter": {
     "source_hidden": true
    }
   },
   "outputs": [
    {
     "data": {
      "text/html": [
       "\n",
       "    <div style=\"\n",
       "        margin: 15px 0; \n",
       "        padding: 16px 20px; \n",
       "        border-radius: 8px; \n",
       "        border-left: 4px solid #3f51b5; \n",
       "        display: flex; \n",
       "        align-items: flex-start; \n",
       "        gap: 12px; \n",
       "        box-shadow: 0 2px 8px rgba(0, 0, 0, 0.1); \n",
       "        background-color: #e8eaf6; \n",
       "        color: #1a237e;\n",
       "        font-family: -apple-system, BlinkMacSystemFont, 'Segoe UI', Roboto, sans-serif;\n",
       "    \">\n",
       "        <div style=\"\n",
       "            font-size: 20px; \n",
       "            margin-top: 2px; \n",
       "            flex-shrink: 0;\n",
       "        \">🏋️</div>\n",
       "        <div style=\"flex: 1;\">\n",
       "            <div style=\"\n",
       "                font-weight: bold; \n",
       "                margin-bottom: 6px; \n",
       "                font-size: 14px; \n",
       "                text-transform: uppercase; \n",
       "                letter-spacing: 0.5px;\n",
       "            \">Exercise</div>\n",
       "            <div style=\"\n",
       "                margin: 0; \n",
       "                font-size: 14px; \n",
       "                line-height: 1.5;\n",
       "            \">Try out some of the methods from the list!</div>\n",
       "        </div>\n",
       "    </div>\n",
       "    "
      ],
      "text/plain": [
       "<IPython.core.display.HTML object>"
      ]
     },
     "execution_count": 31,
     "metadata": {},
     "output_type": "execute_result"
    }
   ],
   "source": [
    "#hide\n",
    "utils.exercise(\"Try out some of the methods from the list!\")"
   ]
  },
  {
   "cell_type": "code",
   "execution_count": 32,
   "id": "1549c31e-3d3b-45b5-b02c-59cb5205cce2",
   "metadata": {},
   "outputs": [],
   "source": [
    "# Your solution"
   ]
  },
  {
   "cell_type": "code",
   "execution_count": 33,
   "id": "65f11c0e-9f26-4121-a748-c9fcd29b2a7f",
   "metadata": {},
   "outputs": [],
   "source": [
    "# Solution"
   ]
  },
  {
   "cell_type": "code",
   "execution_count": 34,
   "id": "76505308-d186-43e6-aa3e-18630d57e0ec",
   "metadata": {
    "jupyter": {
     "source_hidden": true
    }
   },
   "outputs": [
    {
     "data": {
      "text/html": [
       "\n",
       "        <div style=\"\n",
       "            margin: 25px 0 15px 0;\n",
       "            padding: 0;\n",
       "        \">\n",
       "            <h3 style=\"\n",
       "                font-size: 18px;\n",
       "                font-weight: 600;\n",
       "                color: #2c3e50;\n",
       "                margin: 0;\n",
       "                padding: 12px 0 8px 0;\n",
       "                display: inline-block;\n",
       "                border-bottom: 3px solid #667eea;\n",
       "                font-family: 'Segoe UI', Tahoma, Geneva, Verdana, sans-serif;\n",
       "                background: linear-gradient(135deg, #667eea, #764ba2);\n",
       "                -webkit-background-clip: text;\n",
       "                -webkit-text-fill-color: transparent;\n",
       "                background-clip: text;\n",
       "            \">Small Integer Caching</h3>\n",
       "        </div>\n",
       "    "
      ],
      "text/plain": [
       "<IPython.core.display.HTML object>"
      ]
     },
     "metadata": {},
     "output_type": "display_data"
    }
   ],
   "source": [
    "#hide\n",
    "utils.h2(\"Small Integer Caching\")"
   ]
  },
  {
   "cell_type": "code",
   "execution_count": 35,
   "id": "ef94ffb8-ab7c-4763-a9b4-89f36c86224b",
   "metadata": {},
   "outputs": [
    {
     "name": "stdout",
     "output_type": "stream",
     "text": [
      "Varaible a points at 4585058304 which has 10\n",
      "Varaible b points at 4585058304 which has 10\n",
      "----------------------------------------------------------------------------------------------------\n"
     ]
    }
   ],
   "source": [
    "a = 10\n",
    "print(f\"Varaible a points at {id(a)} which has {a}\")\n",
    "b = 10\n",
    "print(f\"Varaible b points at {id(b)} which has {b}\")\n",
    "print(\"-\"*100)"
   ]
  },
  {
   "cell_type": "markdown",
   "id": "565994c6-cfdd-40a4-92d1-8225ae704ce0",
   "metadata": {},
   "source": [
    "Based on above, we observe that both 'a' and 'b' points to the same address. It is because Python caches small integer values for efficiency."
   ]
  },
  {
   "cell_type": "code",
   "execution_count": 36,
   "id": "d2151c48-88f3-4575-a961-d53c21a63807",
   "metadata": {},
   "outputs": [
    {
     "name": "stdout",
     "output_type": "stream",
     "text": [
      "Varaible a points at 4617895120 which has 600\n",
      "Varaible b points at 4617895216 which has 600\n",
      "----------------------------------------------------------------------------------------------------\n"
     ]
    }
   ],
   "source": [
    "a = 600 # Changing to large values\n",
    "print(f\"Varaible a points at {id(a)} which has {a}\")\n",
    "b = 600\n",
    "print(f\"Varaible b points at {id(b)} which has {b}\")\n",
    "print(\"-\"*100)"
   ]
  },
  {
   "cell_type": "code",
   "execution_count": 37,
   "id": "8c62d602-46ec-425f-ab54-121fc636b5e8",
   "metadata": {
    "jupyter": {
     "source_hidden": true
    }
   },
   "outputs": [
    {
     "data": {
      "text/html": [
       "\n",
       "    <div style=\"\n",
       "        margin: 15px 0; \n",
       "        padding: 16px 20px; \n",
       "        border-radius: 8px; \n",
       "        border-left: 4px solid #3f51b5; \n",
       "        display: flex; \n",
       "        align-items: flex-start; \n",
       "        gap: 12px; \n",
       "        box-shadow: 0 2px 8px rgba(0, 0, 0, 0.1); \n",
       "        background-color: #e8eaf6; \n",
       "        color: #1a237e;\n",
       "        font-family: -apple-system, BlinkMacSystemFont, 'Segoe UI', Roboto, sans-serif;\n",
       "    \">\n",
       "        <div style=\"\n",
       "            font-size: 20px; \n",
       "            margin-top: 2px; \n",
       "            flex-shrink: 0;\n",
       "        \">🏋️</div>\n",
       "        <div style=\"flex: 1;\">\n",
       "            <div style=\"\n",
       "                font-weight: bold; \n",
       "                margin-bottom: 6px; \n",
       "                font-size: 14px; \n",
       "                text-transform: uppercase; \n",
       "                letter-spacing: 0.5px;\n",
       "            \">Exercise</div>\n",
       "            <div style=\"\n",
       "                margin: 0; \n",
       "                font-size: 14px; \n",
       "                line-height: 1.5;\n",
       "            \">Find out all the integer values that python caches</div>\n",
       "        </div>\n",
       "    </div>\n",
       "    "
      ],
      "text/plain": [
       "<IPython.core.display.HTML object>"
      ]
     },
     "execution_count": 37,
     "metadata": {},
     "output_type": "execute_result"
    }
   ],
   "source": [
    "#hide\n",
    "utils.exercise(\"Find out all the integer values that python caches\")"
   ]
  },
  {
   "cell_type": "code",
   "execution_count": 38,
   "id": "2f7898d4-3ee5-4dcf-a8f9-49009f9a9f57",
   "metadata": {},
   "outputs": [],
   "source": [
    "# Your solution"
   ]
  },
  {
   "cell_type": "code",
   "execution_count": 39,
   "id": "87501c70-b0f6-4111-8563-ea93d3e8c945",
   "metadata": {
    "jupyter": {
     "source_hidden": true
    }
   },
   "outputs": [
    {
     "name": "stdout",
     "output_type": "stream",
     "text": [
      "-5 to 256 are cached\n"
     ]
    }
   ],
   "source": [
    "# Solution\n",
    "def is_cached(val: int) -> bool:\n",
    "    # Create two variables storing the same value\n",
    "    a = int(str(val)) # Tricking python to create a new object instead\n",
    "    b = int(str(val)) \n",
    "    return a is b\n",
    "\n",
    "cached = [] # To store all the values that are cached\n",
    "for i in range(-200, 400):\n",
    "    if is_cached(i):\n",
    "        cached.append(i)\n",
    "print(f\"{min(cached)} to {max(cached)} are cached\")"
   ]
  },
  {
   "cell_type": "code",
   "execution_count": 41,
   "id": "cf476786-2083-4e02-9718-1d8ddbc3fb10",
   "metadata": {
    "jupyter": {
     "source_hidden": true
    }
   },
   "outputs": [
    {
     "data": {
      "text/html": [
       "\n",
       "        <div style=\"\n",
       "            margin: 25px 0 15px 0;\n",
       "            padding: 0;\n",
       "        \">\n",
       "            <h3 style=\"\n",
       "                font-size: 18px;\n",
       "                font-weight: 600;\n",
       "                color: #2c3e50;\n",
       "                margin: 0;\n",
       "                padding: 12px 0 8px 0;\n",
       "                display: inline-block;\n",
       "                border-bottom: 3px solid #667eea;\n",
       "                font-family: 'Segoe UI', Tahoma, Geneva, Verdana, sans-serif;\n",
       "                background: linear-gradient(135deg, #667eea, #764ba2);\n",
       "                -webkit-background-clip: text;\n",
       "                -webkit-text-fill-color: transparent;\n",
       "                background-clip: text;\n",
       "            \">Iterable and Indexable?</h3>\n",
       "        </div>\n",
       "    "
      ],
      "text/plain": [
       "<IPython.core.display.HTML object>"
      ]
     },
     "metadata": {},
     "output_type": "display_data"
    }
   ],
   "source": [
    "#hide\n",
    "utils.h2(\"Iterable and Indexable?\")"
   ]
  },
  {
   "cell_type": "markdown",
   "id": "003d9011-245d-4b77-9dd4-712640aa6a94",
   "metadata": {},
   "source": [
    "A datatype is said to be **Iterable** if it implements either of the methods:\n",
    "1. \\_\\_iter\\_\\_(): returns an iterator\n",
    "2. \\_\\_getitem\\_\\_(): with integer indices starting from 0\n",
    "\n",
    "A datatype is said to be **indexable**:\n",
    "- **by integer** if it implements \\_\\_getitem\\_\\_(index)\n",
    "- **by key** if it implements \\_\\_getitem\\_\\_(key)"
   ]
  },
  {
   "cell_type": "code",
   "execution_count": 43,
   "id": "1697bed5-8047-4573-a78e-db9a8a92d0c8",
   "metadata": {
    "jupyter": {
     "source_hidden": true
    }
   },
   "outputs": [
    {
     "data": {
      "text/html": [
       "\n",
       "    <div style=\"\n",
       "        margin: 15px 0; \n",
       "        padding: 16px 20px; \n",
       "        border-radius: 8px; \n",
       "        border-left: 4px solid #4caf50; \n",
       "        display: flex; \n",
       "        align-items: flex-start; \n",
       "        gap: 12px; \n",
       "        box-shadow: 0 2px 8px rgba(0, 0, 0, 0.1); \n",
       "        background-color: #e8f5e8; \n",
       "        color: #1b5e20;\n",
       "        font-family: -apple-system, BlinkMacSystemFont, 'Segoe UI', Roboto, sans-serif;\n",
       "    \">\n",
       "        <div style=\"\n",
       "            font-size: 20px; \n",
       "            margin-top: 2px; \n",
       "            flex-shrink: 0;\n",
       "        \">💡</div>\n",
       "        <div style=\"flex: 1;\">\n",
       "            <div style=\"\n",
       "                font-weight: bold; \n",
       "                margin-bottom: 6px; \n",
       "                font-size: 14px; \n",
       "                text-transform: uppercase; \n",
       "                letter-spacing: 0.5px;\n",
       "            \">Tip</div>\n",
       "            <div style=\"\n",
       "                margin: 0; \n",
       "                font-size: 14px; \n",
       "                line-height: 1.5;\n",
       "            \">'collections' module in Python can be used to find out if an object is iterable</div>\n",
       "        </div>\n",
       "    </div>\n",
       "    "
      ],
      "text/plain": [
       "<IPython.core.display.HTML object>"
      ]
     },
     "execution_count": 43,
     "metadata": {},
     "output_type": "execute_result"
    }
   ],
   "source": [
    "#hide\n",
    "utils.tip(\"'collections' module in Python can be used to find out if an object is iterable\")"
   ]
  },
  {
   "cell_type": "code",
   "execution_count": 44,
   "id": "610709c7-0721-42a4-8676-4a4f0ba4eaf9",
   "metadata": {},
   "outputs": [
    {
     "name": "stdout",
     "output_type": "stream",
     "text": [
      "<class 'int'>   Iterable: False || Indexable: False\n"
     ]
    }
   ],
   "source": [
    "# Code to check if an object is iterable and indexable\n",
    "def is_iter_indexable(obj):\n",
    "    from collections.abc import Iterable\n",
    "    is_iterable = isinstance(obj, Iterable)\n",
    "    is_indexable = hasattr(obj, \"__getitem__\")\n",
    "    print(f\"{type(obj)}   Iterable: {is_iterable} || Indexable: {is_indexable}\")\n",
    "\n",
    "is_iter_indexable(10)"
   ]
  },
  {
   "cell_type": "code",
   "execution_count": null,
   "id": "4bc2670f-92f6-4993-8cdc-721392f69d01",
   "metadata": {},
   "outputs": [],
   "source": []
  },
  {
   "cell_type": "code",
   "execution_count": 45,
   "id": "ec6d42f8-eb9f-46e8-b85b-e8a9d3b8d64e",
   "metadata": {
    "jupyter": {
     "source_hidden": true
    }
   },
   "outputs": [
    {
     "data": {
      "text/html": [
       "\n",
       "    <div style=\"\n",
       "        margin: 15px 0; \n",
       "        padding: 16px 20px; \n",
       "        border-radius: 8px; \n",
       "        border-left: 4px solid #42a5f5; \n",
       "        display: flex; \n",
       "        align-items: flex-start; \n",
       "        gap: 12px; \n",
       "        box-shadow: 0 2px 8px rgba(0, 0, 0, 0.1); \n",
       "        background-color: #e3f2fd; \n",
       "        color: #1565c0;\n",
       "        font-family: -apple-system, BlinkMacSystemFont, 'Segoe UI', Roboto, sans-serif;\n",
       "    \">\n",
       "        <div style=\"\n",
       "            font-size: 20px; \n",
       "            margin-top: 2px; \n",
       "            flex-shrink: 0;\n",
       "        \">🔜</div>\n",
       "        <div style=\"flex: 1;\">\n",
       "            <div style=\"\n",
       "                font-weight: bold; \n",
       "                margin-bottom: 6px; \n",
       "                font-size: 14px; \n",
       "                text-transform: uppercase; \n",
       "                letter-spacing: 0.5px;\n",
       "            \">Coming Up Next</div>\n",
       "            <div style=\"\n",
       "                margin: 0; \n",
       "                font-size: 14px; \n",
       "                line-height: 1.5;\n",
       "            \">We will look into another dataype 'float'</div>\n",
       "        </div>\n",
       "    </div>\n",
       "    "
      ],
      "text/plain": [
       "<IPython.core.display.HTML object>"
      ]
     },
     "execution_count": 45,
     "metadata": {},
     "output_type": "execute_result"
    }
   ],
   "source": [
    "#hide\n",
    "utils.upcoming(\"We will look into another dataype 'float'\")"
   ]
  },
  {
   "cell_type": "code",
   "execution_count": null,
   "id": "88b065a7-fb31-4edd-9866-b178a99483d7",
   "metadata": {},
   "outputs": [],
   "source": []
  }
 ],
 "metadata": {
  "kernelspec": {
   "display_name": "Python 3 (ipykernel)",
   "language": "python",
   "name": "python3"
  },
  "language_info": {
   "codemirror_mode": {
    "name": "ipython",
    "version": 3
   },
   "file_extension": ".py",
   "mimetype": "text/x-python",
   "name": "python",
   "nbconvert_exporter": "python",
   "pygments_lexer": "ipython3",
   "version": "3.12.0"
  }
 },
 "nbformat": 4,
 "nbformat_minor": 5
}
