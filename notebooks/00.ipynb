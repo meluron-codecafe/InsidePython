{
 "cells": [
  {
   "cell_type": "code",
   "execution_count": 3,
   "id": "052fd111-a511-43b2-b83d-878ec6f8c940",
   "metadata": {},
   "outputs": [],
   "source": [
    "#hide"
   ]
  },
  {
   "cell_type": "code",
   "execution_count": 2,
   "id": "ccdf613c-b206-4a72-9928-3af56ca9cc4b",
   "metadata": {
    "jupyter": {
     "source_hidden": true
    }
   },
   "outputs": [
    {
     "data": {
      "text/html": [
       "\n",
       "    <div style=\"\n",
       "        position: relative;\n",
       "        display: flex; \n",
       "        align-items: center; \n",
       "        justify-content: flex-start;\n",
       "        min-height: 80px;\n",
       "        width: 800px;\n",
       "        background: linear-gradient(135deg, #f5f7fa 0%, #c3cfe2 100%);\n",
       "        padding: 20px;\n",
       "        border-radius: 12px;\n",
       "        box-shadow: 0 4px 15px rgba(0, 0, 0, 0.1);\n",
       "        border: 1px solid #e1e8ed;\n",
       "        margin: 10px 0;\n",
       "        font-family: 'Segoe UI', Tahoma, Geneva, Verdana, sans-serif;\n",
       "    \">\n",
       "\n",
       "        <!-- GitHub Icon + Name in top-right -->\n",
       "        <a href=\"https://github.com/meluron\" target=\"_blank\" style=\"\n",
       "            position: absolute;\n",
       "            top: 16px;\n",
       "            right: 20px;\n",
       "            display: flex;\n",
       "            align-items: center;\n",
       "            text-decoration: none;\n",
       "            color: #333;\n",
       "            font-size: 14px;\n",
       "            font-weight: 500;\n",
       "            gap: 6px;\n",
       "        \">\n",
       "            <img src=\"https://cdn-icons-png.flaticon.com/512/25/25231.png\" \n",
       "                 alt=\"GitHub\" \n",
       "                 style=\"width: 18px; height: 18px; display: inline-block; vertical-align: middle;\">\n",
       "            <span style=\"transform: translateY(-1px); line-height: 1;\">\n",
       "                /meluron-codecafe\n",
       "            </span>\n",
       "        </a>\n",
       "\n",
       "        <!-- Logo + Label stacked vertically -->\n",
       "        <div style=\"\n",
       "            display: flex; \n",
       "            flex-direction: column; \n",
       "            align-items: center; \n",
       "            justify-content: center;\n",
       "            margin-right: 35px;\n",
       "        \">\n",
       "            <a href=\"https://github.com/meluron\" target=\"_blank\">\n",
       "                <img src=\"https://raw.githubusercontent.com/meluron/assets/refs/heads/main/logos/meluron-codecafe/orig.png\" \n",
       "                     alt=\"My Logo\" \n",
       "                     style=\"\n",
       "                        width: 70px; \n",
       "                        height: 70px;\n",
       "                        border-radius: 8px;\n",
       "                        box-shadow: 0 3px 10px rgba(253, 138, 9, 0.3);\n",
       "                     \">\n",
       "            </a>\n",
       "            <div style=\"\n",
       "                font-size: 13px; \n",
       "                color: #fd8a09; \n",
       "                font-weight: bold;\n",
       "                margin-top: 6px;\n",
       "                text-align: center;\n",
       "            \">\n",
       "            </div>\n",
       "        </div>\n",
       "\n",
       "        <!-- Topic Badge -->\n",
       "        <div style=\"\n",
       "            font-size: 14px; \n",
       "            background: linear-gradient(135deg, #667eea, #764ba2);\n",
       "            color: white; \n",
       "            padding: 8px 14px; \n",
       "            border-radius: 20px; \n",
       "            display: inline-flex;\n",
       "            align-items: center;\n",
       "            gap: 6px;\n",
       "            font-weight: 600;\n",
       "            box-shadow: 0 3px 12px rgba(102, 126, 234, 0.3);\n",
       "        \">\n",
       "            <span style=\"font-size: 16px;\">🎯</span>\n",
       "            Topic: An Intro to Data, Data Types and Data Structures\n",
       "        </div>\n",
       "    </div>\n",
       "    "
      ],
      "text/plain": [
       "<IPython.core.display.HTML object>"
      ]
     },
     "metadata": {},
     "output_type": "display_data"
    }
   ],
   "source": [
    "#hide\n",
    "import utils\n",
    "utils.hero(\"An Intro to Data, Data Types and Data Structures\")"
   ]
  },
  {
   "cell_type": "code",
   "execution_count": 3,
   "id": "0540d9d7-02dd-4d9e-93a8-ba16931bedd4",
   "metadata": {
    "jupyter": {
     "source_hidden": true
    }
   },
   "outputs": [
    {
     "data": {
      "text/html": [
       "\n",
       "        <div style=\"\n",
       "            margin: 25px 0 15px 0;\n",
       "            padding: 0;\n",
       "        \">\n",
       "            <h2 style=\"\n",
       "                font-size: 24px;\n",
       "                font-weight: 600;\n",
       "                color: #2c3e50;\n",
       "                margin: 0;\n",
       "                padding: 12px 0 8px 0;\n",
       "                display: inline-block;\n",
       "                font-family: 'Segoe UI', Tahoma, Geneva, Verdana, sans-serif;\n",
       "                background: linear-gradient(135deg, #667eea, #764ba2);\n",
       "                -webkit-background-clip: text;\n",
       "                -webkit-text-fill-color: transparent;\n",
       "                background-clip: text;\n",
       "            \">▶ Data</h2>\n",
       "        </div>\n",
       "    "
      ],
      "text/plain": [
       "<IPython.core.display.HTML object>"
      ]
     },
     "metadata": {},
     "output_type": "display_data"
    }
   ],
   "source": [
    "#hide\n",
    "utils.h1(\"Data\")"
   ]
  },
  {
   "cell_type": "markdown",
   "id": "2e8f58c8-66fe-4ff4-bb96-dd51f85ac7f3",
   "metadata": {},
   "source": [
    "Information is floating all around us. Any piece of information that can be collected, stored, analysed and manipulated is referred to as data. For example, the name, color, weight, size, height associated to anything you see around is **data**."
   ]
  },
  {
   "cell_type": "code",
   "execution_count": 4,
   "id": "f9dcbcb5-5801-498e-9f87-bff7d442b02c",
   "metadata": {
    "jupyter": {
     "source_hidden": true
    }
   },
   "outputs": [
    {
     "data": {
      "text/html": [
       "\n",
       "        <div style=\"\n",
       "            margin: 25px 0 15px 0;\n",
       "            padding: 0;\n",
       "        \">\n",
       "            <h2 style=\"\n",
       "                font-size: 24px;\n",
       "                font-weight: 600;\n",
       "                color: #2c3e50;\n",
       "                margin: 0;\n",
       "                padding: 12px 0 8px 0;\n",
       "                display: inline-block;\n",
       "                font-family: 'Segoe UI', Tahoma, Geneva, Verdana, sans-serif;\n",
       "                background: linear-gradient(135deg, #667eea, #764ba2);\n",
       "                -webkit-background-clip: text;\n",
       "                -webkit-text-fill-color: transparent;\n",
       "                background-clip: text;\n",
       "            \">▶ Data Types</h2>\n",
       "        </div>\n",
       "    "
      ],
      "text/plain": [
       "<IPython.core.display.HTML object>"
      ]
     },
     "metadata": {},
     "output_type": "display_data"
    }
   ],
   "source": [
    "#hide\n",
    "utils.h1(\"Data Types\")"
   ]
  },
  {
   "cell_type": "markdown",
   "id": "ec3a8b86-273c-4278-9029-906918ad25ce",
   "metadata": {},
   "source": [
    "The operations like collecting, storing, analysing and manipulating data can be done both manually or with machines. But in most cases, using a machine makes it easier, faster and less error-prone to run these operations. \\\n",
    "However to make use of machines, we need to have a system well designed and optimised for such operations. For such optimisation, it becomes relevant to categorise data into different data types. \\\n",
    "For example, all the words like data can be grouped into one data type (say, string), similary all the integers data can be grouped together into one data type (say, int). \\\n",
    "A **data type** defines \"What kind of value it is\". Also, for different datatypes, we have access to different methods that we can perform on the data."
   ]
  },
  {
   "cell_type": "code",
   "execution_count": 5,
   "id": "6c467f99-07ec-4e26-99cc-a3c0d73d1451",
   "metadata": {},
   "outputs": [
    {
     "name": "stdout",
     "output_type": "stream",
     "text": [
      "Name: Ankit\n",
      "Name: ankit\n",
      "Age: 24 years\n",
      "Age: 25 years\n",
      "Full name: Ankit Anand\n",
      "----------------------------------------------------------------------------------------------------\n"
     ]
    }
   ],
   "source": [
    "name = \"Ankit\" # \"Ankit\" is a data of data type \"String\"\n",
    "print(f\"Name: {name}\")\n",
    "print(f\"Name: {name.lower()}\") # lower() is a method that can be performed on data of data type \"String\"\n",
    "\n",
    "age = 24 # 24 is a data of data type \"Integer\"\n",
    "print(f\"Age: {age} years\")\n",
    "age = age + 1 # + is an operation that can be performed on data of data type \"int\" and it acts as arithmetic addition\n",
    "print(f\"Age: {age} years\")\n",
    "fullname = name + \" \" + \"Anand\" # + is an operation that can be performed on data of data type \"string\" and it acts as concatenation\n",
    "print(f\"Full name: {fullname}\")\n",
    "print(\"-\"*100)"
   ]
  },
  {
   "cell_type": "code",
   "execution_count": 6,
   "id": "0be8fe69-b50c-4690-9eaf-0ed4f641214e",
   "metadata": {
    "jupyter": {
     "source_hidden": true
    }
   },
   "outputs": [
    {
     "data": {
      "text/html": [
       "\n",
       "    <div style=\"\n",
       "        margin: 15px 0; \n",
       "        padding: 16px 20px; \n",
       "        border-radius: 8px; \n",
       "        border-left: 4px solid #2196f3; \n",
       "        display: flex; \n",
       "        align-items: flex-start; \n",
       "        gap: 12px; \n",
       "        box-shadow: 0 2px 8px rgba(0, 0, 0, 0.1); \n",
       "        background-color: #e3f2fd; \n",
       "        color: #0d47a1;\n",
       "        font-family: -apple-system, BlinkMacSystemFont, 'Segoe UI', Roboto, sans-serif;\n",
       "    \">\n",
       "        <div style=\"\n",
       "            font-size: 20px; \n",
       "            margin-top: 2px; \n",
       "            flex-shrink: 0;\n",
       "        \">📝</div>\n",
       "        <div style=\"flex: 1;\">\n",
       "            <div style=\"\n",
       "                font-weight: bold; \n",
       "                margin-bottom: 6px; \n",
       "                font-size: 14px; \n",
       "                text-transform: uppercase; \n",
       "                letter-spacing: 0.5px;\n",
       "            \">Note</div>\n",
       "            <div style=\"\n",
       "                margin: 0; \n",
       "                font-size: 14px; \n",
       "                line-height: 1.5;\n",
       "            \">'name' and 'age' are just names of variables that store the memory location of the data. It has nothing to do with data types.</div>\n",
       "        </div>\n",
       "    </div>\n",
       "    "
      ],
      "text/plain": [
       "<IPython.core.display.HTML object>"
      ]
     },
     "execution_count": 6,
     "metadata": {},
     "output_type": "execute_result"
    }
   ],
   "source": [
    "#hide\n",
    "utils.note(\"'name' and 'age' are just names of variables that store the memory location of the data. It has nothing to do with data types.\")"
   ]
  },
  {
   "cell_type": "code",
   "execution_count": 7,
   "id": "26e7c324-b018-4468-89d8-72fbabf20806",
   "metadata": {},
   "outputs": [
    {
     "name": "stdout",
     "output_type": "stream",
     "text": [
      "Name variable points to 0x10671b7e0\n",
      "Age variable points to 0x1046db1e0\n",
      "Full Name variable points to 0x1067da3b0\n",
      "----------------------------------------------------------------------------------------------------\n"
     ]
    }
   ],
   "source": [
    "# To see the memory address of a data, python has a function called id\n",
    "print(f\"Name variable points to {hex(id(name))}\") # memory address in hex\n",
    "print(f\"Age variable points to {hex(id(age))}\") # memory address in hex\n",
    "print(f\"Full Name variable points to {hex(id(fullname))}\") # memory address in hex\n",
    "print(\"-\"*100)"
   ]
  },
  {
   "cell_type": "code",
   "execution_count": 8,
   "id": "66d0f32e-bd35-404e-b90a-9f799c99d09d",
   "metadata": {
    "jupyter": {
     "source_hidden": true
    }
   },
   "outputs": [
    {
     "data": {
      "text/html": [
       "\n",
       "        <div style=\"\n",
       "            margin: 25px 0 15px 0;\n",
       "            padding: 0;\n",
       "        \">\n",
       "            <h2 style=\"\n",
       "                font-size: 24px;\n",
       "                font-weight: 600;\n",
       "                color: #2c3e50;\n",
       "                margin: 0;\n",
       "                padding: 12px 0 8px 0;\n",
       "                display: inline-block;\n",
       "                font-family: 'Segoe UI', Tahoma, Geneva, Verdana, sans-serif;\n",
       "                background: linear-gradient(135deg, #667eea, #764ba2);\n",
       "                -webkit-background-clip: text;\n",
       "                -webkit-text-fill-color: transparent;\n",
       "                background-clip: text;\n",
       "            \">▶ Data Structure</h2>\n",
       "        </div>\n",
       "    "
      ],
      "text/plain": [
       "<IPython.core.display.HTML object>"
      ]
     },
     "metadata": {},
     "output_type": "display_data"
    }
   ],
   "source": [
    "#hide\n",
    "utils.h1(\"Data Structure\")"
   ]
  },
  {
   "cell_type": "markdown",
   "id": "44e7d176-c192-4413-a292-cb7a992f5574",
   "metadata": {},
   "source": [
    "In most real world scenerio, we interact with not just one data point but multiple, so we need to design some sort of optimised structure to hold multiple data points together. That is what we mean by **data structure**. \\\n",
    "A **data structure** defines a particular way of organizing, storing and accessing a collection of data efficiently. For example, a list of friends, a dictionary (key-value pair)"
   ]
  },
  {
   "cell_type": "code",
   "execution_count": 9,
   "id": "8055d2d8-b66f-4ede-87f7-53baf20bec47",
   "metadata": {},
   "outputs": [
    {
     "name": "stdout",
     "output_type": "stream",
     "text": [
      "At index 0: Ankit\n",
      "pop(['Ankit', 'Ayush', 'Shreyansh'])->['Ankit', 'Ayush']\n",
      "----------------------------------------------------------------------------------------------------\n"
     ]
    }
   ],
   "source": [
    "names = [\"Ankit\", \"Ayush\", \"Shreyansh\"] # This is a data structure called list\n",
    "print(f\"At index {0}: {names[0]}\") # This is an operation (retrieving an element) that can be performed on list\n",
    "print(f\"pop({names})\", end=\"->\")\n",
    "names.pop() # This is an operation (removing an element from the end) that can be performed on list\n",
    "print(names)\n",
    "print(\"-\"*100)"
   ]
  },
  {
   "cell_type": "code",
   "execution_count": 10,
   "id": "c9532ee5-df72-4fc7-b861-19aedd238734",
   "metadata": {
    "jupyter": {
     "source_hidden": true
    }
   },
   "outputs": [
    {
     "data": {
      "text/html": [
       "\n",
       "    <div style=\"\n",
       "        margin: 15px 0; \n",
       "        padding: 16px 20px; \n",
       "        border-radius: 8px; \n",
       "        border-left: 4px solid #42a5f5; \n",
       "        display: flex; \n",
       "        align-items: flex-start; \n",
       "        gap: 12px; \n",
       "        box-shadow: 0 2px 8px rgba(0, 0, 0, 0.1); \n",
       "        background-color: #e3f2fd; \n",
       "        color: #1565c0;\n",
       "        font-family: -apple-system, BlinkMacSystemFont, 'Segoe UI', Roboto, sans-serif;\n",
       "    \">\n",
       "        <div style=\"\n",
       "            font-size: 20px; \n",
       "            margin-top: 2px; \n",
       "            flex-shrink: 0;\n",
       "        \">🔜</div>\n",
       "        <div style=\"flex: 1;\">\n",
       "            <div style=\"\n",
       "                font-weight: bold; \n",
       "                margin-bottom: 6px; \n",
       "                font-size: 14px; \n",
       "                text-transform: uppercase; \n",
       "                letter-spacing: 0.5px;\n",
       "            \">Coming Up Next</div>\n",
       "            <div style=\"\n",
       "                margin: 0; \n",
       "                font-size: 14px; \n",
       "                line-height: 1.5;\n",
       "            \">Intro to data types in Python</div>\n",
       "        </div>\n",
       "    </div>\n",
       "    "
      ],
      "text/plain": [
       "<IPython.core.display.HTML object>"
      ]
     },
     "execution_count": 10,
     "metadata": {},
     "output_type": "execute_result"
    }
   ],
   "source": [
    "#hide\n",
    "utils.upcoming(\"Intro to data types in Python\")"
   ]
  },
  {
   "cell_type": "code",
   "execution_count": null,
   "id": "87f3c14b-0815-40b0-a429-06a5a04cc4e0",
   "metadata": {},
   "outputs": [],
   "source": []
  },
  {
   "cell_type": "code",
   "execution_count": null,
   "id": "3239f185-ed01-409a-991b-376c4647c36b",
   "metadata": {},
   "outputs": [],
   "source": []
  }
 ],
 "metadata": {
  "kernelspec": {
   "display_name": "Python 3 (ipykernel)",
   "language": "python",
   "name": "python3"
  },
  "language_info": {
   "codemirror_mode": {
    "name": "ipython",
    "version": 3
   },
   "file_extension": ".py",
   "mimetype": "text/x-python",
   "name": "python",
   "nbconvert_exporter": "python",
   "pygments_lexer": "ipython3",
   "version": "3.12.0"
  }
 },
 "nbformat": 4,
 "nbformat_minor": 5
}
